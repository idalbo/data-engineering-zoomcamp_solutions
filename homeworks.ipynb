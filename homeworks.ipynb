{
 "cells": [
  {
   "cell_type": "markdown",
   "metadata": {},
   "source": [
    "## Question 2"
   ]
  },
  {
   "cell_type": "code",
   "execution_count": null,
   "metadata": {},
   "outputs": [],
   "source": [
    "!wget --no-check-certificate https://nyc-tlc.s3.amazonaws.com/trip+data/fhvhv_tripdata_2021-02.csv"
   ]
  },
  {
   "cell_type": "code",
   "execution_count": 2,
   "metadata": {},
   "outputs": [],
   "source": [
    "import pyspark\n",
    "from pyspark.sql import SparkSession\n",
    "import pandas as pd\n",
    "from pyspark.sql import types, functions"
   ]
  },
  {
   "cell_type": "code",
   "execution_count": 3,
   "metadata": {},
   "outputs": [],
   "source": [
    "spark = SparkSession.builder \\\n",
    "    .master(\"local[*]\") \\\n",
    "    .appName('test') \\\n",
    "    .getOrCreate()"
   ]
  },
  {
   "cell_type": "code",
   "execution_count": null,
   "metadata": {},
   "outputs": [],
   "source": [
    "schema = types.StructType([\n",
    "    types.StructField('hvfhs_license_num', types.StringType(), True),\n",
    "    types.StructField('dispatching_base_num', types.StringType(), True),\n",
    "    types.StructField('pickup_datetime', types.TimestampType(), True),\n",
    "    types.StructField('dropoff_datetime', types.TimestampType(), True),\n",
    "    types.StructField('PULocationID', types.IntegerType(), True),\n",
    "    types.StructField('DOLocationID', types.IntegerType(), True),\n",
    "    types.StructField('SR_Flag', types.StringType(), True)\n",
    "])"
   ]
  },
  {
   "cell_type": "code",
   "execution_count": null,
   "metadata": {},
   "outputs": [],
   "source": [
    "df = spark.read \\\n",
    "    .option(\"header\", \"true\") \\\n",
    "    .schema(schema) \\\n",
    "    .csv('fhvhv_tripdata_2021-02.csv')"
   ]
  },
  {
   "cell_type": "code",
   "execution_count": null,
   "metadata": {},
   "outputs": [],
   "source": [
    "df = df.repartition(24)"
   ]
  },
  {
   "cell_type": "code",
   "execution_count": null,
   "metadata": {},
   "outputs": [],
   "source": [
    "df.write.parquet('fhvhv/2021/02/')"
   ]
  },
  {
   "cell_type": "code",
   "execution_count": 4,
   "metadata": {},
   "outputs": [],
   "source": [
    "df = spark.read.parquet('fhvhv/2021/02/')"
   ]
  },
  {
   "cell_type": "markdown",
   "metadata": {},
   "source": [
    "## Question 3"
   ]
  },
  {
   "cell_type": "code",
   "execution_count": 15,
   "metadata": {},
   "outputs": [
    {
     "name": "stdout",
     "output_type": "stream",
     "text": [
      "+-----------------+--------------------+-------------------+-------------------+------------+------------+-------+\n",
      "|hvfhs_license_num|dispatching_base_num|    pickup_datetime|   dropoff_datetime|PULocationID|DOLocationID|SR_Flag|\n",
      "+-----------------+--------------------+-------------------+-------------------+------------+------------+-------+\n",
      "|           HV0003|              B02866|2021-02-02 11:23:35|2021-02-02 11:44:17|          10|          95|   null|\n",
      "|           HV0003|              B02764|2021-02-01 14:47:14|2021-02-01 14:57:06|         180|         216|   null|\n",
      "|           HV0003|              B02887|2021-02-02 08:34:10|2021-02-02 08:54:28|          14|          45|   null|\n",
      "|           HV0005|              B02510|2021-02-03 20:28:12|2021-02-03 20:41:19|          33|         189|   null|\n",
      "|           HV0003|              B02867|2021-02-05 09:16:17|2021-02-05 09:37:13|          78|         243|   null|\n",
      "|           HV0003|              B02882|2021-02-01 16:18:34|2021-02-01 16:34:30|          37|          63|   null|\n",
      "|           HV0003|              B02765|2021-02-02 15:41:29|2021-02-02 15:47:07|         212|         213|   null|\n",
      "|           HV0003|              B02889|2021-02-02 04:57:57|2021-02-02 05:05:45|         131|         130|   null|\n",
      "|           HV0003|              B02872|2021-02-04 17:53:34|2021-02-04 17:58:26|          95|         196|   null|\n",
      "|           HV0003|              B02871|2021-02-03 17:14:16|2021-02-03 17:32:51|         112|         157|   null|\n",
      "|           HV0005|              B02510|2021-02-05 08:56:15|2021-02-05 09:11:04|         185|         213|   null|\n",
      "|           HV0003|              B02765|2021-02-01 11:51:20|2021-02-01 11:58:05|         222|          76|   null|\n",
      "|           HV0005|              B02510|2021-02-02 16:18:02|2021-02-02 16:23:05|          76|          76|   null|\n",
      "|           HV0005|              B02510|2021-02-05 07:31:55|2021-02-05 07:52:09|         239|         140|   null|\n",
      "|           HV0005|              B02510|2021-02-03 21:14:05|2021-02-03 21:24:23|          89|          26|   null|\n",
      "|           HV0003|              B02869|2021-02-05 07:01:44|2021-02-05 07:19:15|          74|         159|   null|\n",
      "|           HV0005|              B02510|2021-02-04 21:28:27|2021-02-04 21:37:00|          37|         177|   null|\n",
      "|           HV0005|              B02510|2021-02-04 11:27:50|2021-02-04 11:40:09|         259|         265|   null|\n",
      "|           HV0003|              B02764|2021-02-03 15:57:27|2021-02-03 16:32:27|         200|         137|   null|\n",
      "|           HV0003|              B02864|2021-02-03 01:58:06|2021-02-03 02:03:30|          20|          78|   null|\n",
      "+-----------------+--------------------+-------------------+-------------------+------------+------------+-------+\n",
      "only showing top 20 rows\n",
      "\n"
     ]
    }
   ],
   "source": [
    "df.show()"
   ]
  },
  {
   "cell_type": "code",
   "execution_count": 20,
   "metadata": {},
   "outputs": [
    {
     "data": {
      "text/plain": [
       "367170"
      ]
     },
     "execution_count": 20,
     "metadata": {},
     "output_type": "execute_result"
    }
   ],
   "source": [
    "df.where(functions.to_date(df.pickup_datetime) == '2021-02-15').count()"
   ]
  },
  {
   "cell_type": "markdown",
   "metadata": {},
   "source": [
    "## Question 4"
   ]
  },
  {
   "cell_type": "code",
   "execution_count": 25,
   "metadata": {},
   "outputs": [
    {
     "name": "stdout",
     "output_type": "stream",
     "text": [
      "+-----------------+--------------------+-------------------+-------------------+------------+------------+-------+--------+\n",
      "|hvfhs_license_num|dispatching_base_num|    pickup_datetime|   dropoff_datetime|PULocationID|DOLocationID|SR_Flag|duration|\n",
      "+-----------------+--------------------+-------------------+-------------------+------------+------------+-------+--------+\n",
      "|           HV0005|              B02510|2021-02-11 13:40:44|2021-02-12 10:39:44|         247|          41|   null|   75540|\n",
      "|           HV0004|              B02800|2021-02-17 15:54:53|2021-02-18 07:48:34|         242|         254|   null|   57221|\n",
      "|           HV0004|              B02800|2021-02-20 12:08:15|2021-02-21 00:22:14|         188|          55|   null|   44039|\n",
      "|           HV0003|              B02864|2021-02-03 20:24:25|2021-02-04 07:41:58|          51|         147|   null|   40653|\n",
      "|           HV0003|              B02887|2021-02-19 23:17:44|2021-02-20 09:44:01|         210|         149|   null|   37577|\n",
      "|           HV0003|              B02764|2021-02-25 17:13:35|2021-02-26 02:57:05|         174|         126|   null|   35010|\n",
      "|           HV0003|              B02875|2021-02-20 01:36:13|2021-02-20 11:16:19|         242|          31|   null|   34806|\n",
      "|           HV0005|              B02510|2021-02-18 15:24:19|2021-02-19 01:01:11|         196|         197|   null|   34612|\n",
      "|           HV0003|              B02764|2021-02-18 01:31:20|2021-02-18 11:07:15|          89|         265|   null|   34555|\n",
      "|           HV0005|              B02510|2021-02-10 20:51:39|2021-02-11 06:21:08|         254|         259|   null|   34169|\n",
      "|           HV0003|              B02764|2021-02-10 01:56:17|2021-02-10 10:57:33|          61|         265|   null|   32476|\n",
      "|           HV0005|              B02510|2021-02-25 09:18:18|2021-02-25 18:18:57|         169|         265|   null|   32439|\n",
      "|           HV0005|              B02510|2021-02-21 19:59:13|2021-02-22 04:56:16|          10|          10|   null|   32223|\n",
      "|           HV0003|              B02864|2021-02-09 18:36:13|2021-02-10 03:31:00|          78|         147|   null|   32087|\n",
      "|           HV0004|              B02800|2021-02-06 09:48:09|2021-02-06 18:32:16|         229|         188|   null|   31447|\n",
      "|           HV0005|              B02510|2021-02-02 09:42:30|2021-02-02 18:17:43|          85|          85|   null|   30913|\n",
      "|           HV0005|              B02510|2021-02-10 10:12:08|2021-02-10 18:46:24|          29|         125|   null|   30856|\n",
      "|           HV0003|              B02764|2021-02-09 13:30:13|2021-02-09 22:02:25|         188|         265|   null|   30732|\n",
      "|           HV0005|              B02510|2021-02-21 22:50:52|2021-02-22 07:21:52|         177|          73|   null|   30660|\n",
      "|           HV0005|              B02510|2021-02-05 21:32:33|2021-02-06 06:01:04|          97|          72|   null|   30511|\n",
      "+-----------------+--------------------+-------------------+-------------------+------------+------------+-------+--------+\n",
      "only showing top 20 rows\n",
      "\n"
     ]
    }
   ],
   "source": [
    "df.withColumn('duration', functions.col(\"dropoff_datetime\").cast(\"long\") - functions.col('pickup_datetime').cast(\"long\")).sort(functions.col(\"duration\").desc()).show()"
   ]
  },
  {
   "cell_type": "markdown",
   "metadata": {},
   "source": [
    "## Question 5"
   ]
  },
  {
   "cell_type": "code",
   "execution_count": 16,
   "metadata": {},
   "outputs": [
    {
     "name": "stdout",
     "output_type": "stream",
     "text": [
      "+--------------------+-------+\n",
      "|dispatching_base_num|  count|\n",
      "+--------------------+-------+\n",
      "|              B02510|3233664|\n",
      "+--------------------+-------+\n",
      "only showing top 1 row\n",
      "\n"
     ]
    }
   ],
   "source": [
    "df.groupby(df['dispatching_base_num']).count().sort(functions.col('count').desc()).show(1)"
   ]
  },
  {
   "cell_type": "code",
   "execution_count": 5,
   "metadata": {},
   "outputs": [],
   "source": [
    "df.registerTempTable(\"fhv_feb\")"
   ]
  },
  {
   "cell_type": "code",
   "execution_count": 6,
   "metadata": {},
   "outputs": [
    {
     "name": "stdout",
     "output_type": "stream",
     "text": [
      "+--------------------+--------+\n",
      "|dispatching_base_num|count(1)|\n",
      "+--------------------+--------+\n",
      "|              B02510| 3233664|\n",
      "|              B02764|  965568|\n",
      "|              B02872|  882689|\n",
      "|              B02875|  685390|\n",
      "|              B02765|  559768|\n",
      "|              B02869|  429720|\n",
      "|              B02887|  322331|\n",
      "|              B02871|  312364|\n",
      "|              B02864|  311603|\n",
      "|              B02866|  311089|\n",
      "|              B02878|  305185|\n",
      "|              B02682|  303255|\n",
      "|              B02617|  274510|\n",
      "|              B02883|  251617|\n",
      "|              B02884|  244963|\n",
      "|              B02882|  232173|\n",
      "|              B02876|  215693|\n",
      "|              B02879|  210137|\n",
      "|              B02867|  200530|\n",
      "|              B02877|  198938|\n",
      "+--------------------+--------+\n",
      "only showing top 20 rows\n",
      "\n"
     ]
    }
   ],
   "source": [
    "spark.sql(\"\"\"\n",
    "SELECT\n",
    "    dispatching_base_num,\n",
    "    count(*)\n",
    "FROM\n",
    "    fhv_feb\n",
    "GROUP BY \n",
    "    dispatching_base_num\n",
    "ORDER BY \n",
    "    2 desc\n",
    "\"\"\").show()"
   ]
  },
  {
   "cell_type": "markdown",
   "metadata": {},
   "source": [
    "## Question 6"
   ]
  },
  {
   "cell_type": "code",
   "execution_count": 7,
   "metadata": {},
   "outputs": [],
   "source": [
    "df_zones = spark.read \\\n",
    "    .option(\"header\", \"true\") \\\n",
    "    .csv('taxi+_zone_lookup.csv')"
   ]
  },
  {
   "cell_type": "code",
   "execution_count": 19,
   "metadata": {},
   "outputs": [
    {
     "name": "stdout",
     "output_type": "stream",
     "text": [
      "+----------+-------------+--------------------+------------+\n",
      "|LocationID|      Borough|                Zone|service_zone|\n",
      "+----------+-------------+--------------------+------------+\n",
      "|         1|          EWR|      Newark Airport|         EWR|\n",
      "|         2|       Queens|         Jamaica Bay|   Boro Zone|\n",
      "|         3|        Bronx|Allerton/Pelham G...|   Boro Zone|\n",
      "|         4|    Manhattan|       Alphabet City| Yellow Zone|\n",
      "|         5|Staten Island|       Arden Heights|   Boro Zone|\n",
      "|         6|Staten Island|Arrochar/Fort Wad...|   Boro Zone|\n",
      "|         7|       Queens|             Astoria|   Boro Zone|\n",
      "|         8|       Queens|        Astoria Park|   Boro Zone|\n",
      "|         9|       Queens|          Auburndale|   Boro Zone|\n",
      "|        10|       Queens|        Baisley Park|   Boro Zone|\n",
      "|        11|     Brooklyn|          Bath Beach|   Boro Zone|\n",
      "|        12|    Manhattan|        Battery Park| Yellow Zone|\n",
      "|        13|    Manhattan|   Battery Park City| Yellow Zone|\n",
      "|        14|     Brooklyn|           Bay Ridge|   Boro Zone|\n",
      "|        15|       Queens|Bay Terrace/Fort ...|   Boro Zone|\n",
      "|        16|       Queens|             Bayside|   Boro Zone|\n",
      "|        17|     Brooklyn|             Bedford|   Boro Zone|\n",
      "|        18|        Bronx|        Bedford Park|   Boro Zone|\n",
      "|        19|       Queens|           Bellerose|   Boro Zone|\n",
      "|        20|        Bronx|             Belmont|   Boro Zone|\n",
      "+----------+-------------+--------------------+------------+\n",
      "only showing top 20 rows\n",
      "\n"
     ]
    }
   ],
   "source": [
    "df_zones.show()"
   ]
  },
  {
   "cell_type": "code",
   "execution_count": 24,
   "metadata": {},
   "outputs": [],
   "source": [
    "df_join1 = df.join(df_zones, df.PULocationID == df_zones.LocationID, 'left').select(df[\"*\"],df_zones[\"Zone\"]).withColumnRenamed(\"Zone\",\"pickup_location\")"
   ]
  },
  {
   "cell_type": "code",
   "execution_count": 27,
   "metadata": {},
   "outputs": [],
   "source": [
    "df_join_all = df_join1.join(df_zones, df_join1.DOLocationID == df_zones.LocationID, 'left').select(df_join1[\"*\"],df_zones[\"Zone\"]).withColumnRenamed(\"Zone\",\"dropoff_location\")"
   ]
  },
  {
   "cell_type": "code",
   "execution_count": 38,
   "metadata": {},
   "outputs": [
    {
     "name": "stdout",
     "output_type": "stream",
     "text": [
      "+--------------------+--------------------+-----+\n",
      "|     pickup_location|    dropoff_location|count|\n",
      "+--------------------+--------------------+-----+\n",
      "|       East New York|       East New York|45041|\n",
      "|        Borough Park|        Borough Park|37329|\n",
      "|            Canarsie|            Canarsie|28026|\n",
      "| Crown Heights North| Crown Heights North|25976|\n",
      "|           Bay Ridge|           Bay Ridge|17934|\n",
      "|             Astoria|             Astoria|14688|\n",
      "|     Jackson Heights|     Jackson Heights|14688|\n",
      "|Central Harlem North|Central Harlem North|14481|\n",
      "|      Bushwick South|      Bushwick South|14424|\n",
      "|Flatbush/Ditmas Park|Flatbush/Ditmas Park|13976|\n",
      "|    South Ozone Park|    South Ozone Park|13716|\n",
      "|         Brownsville|         Brownsville|12829|\n",
      "|         JFK Airport|                  NA|12542|\n",
      "|Prospect-Lefferts...| Crown Heights North|11814|\n",
      "|        Forest Hills|        Forest Hills|11548|\n",
      "|      Bushwick North|      Bushwick South|11491|\n",
      "|      Bushwick South|      Bushwick North|11487|\n",
      "| Crown Heights North|Prospect-Lefferts...|11462|\n",
      "| Crown Heights North|  Stuyvesant Heights|11342|\n",
      "|Prospect-Lefferts...|Prospect-Lefferts...|11308|\n",
      "|  Stuyvesant Heights| Crown Heights North|11293|\n",
      "|         Brownsville|       East New York|11244|\n",
      "|             Bedford|             Bedford|11021|\n",
      "|            Canarsie|       East New York|10688|\n",
      "|  Stuyvesant Heights|  Stuyvesant Heights|10675|\n",
      "|       East New York|         Brownsville|10621|\n",
      "|            Elmhurst|            Elmhurst|10604|\n",
      "|Soundview/Castle ...|Soundview/Castle ...|10519|\n",
      "|Central Harlem North|      Central Harlem|10304|\n",
      "|      Central Harlem|Central Harlem North|10260|\n",
      "|             Bedford| Crown Heights North|10185|\n",
      "| Crown Heights North|             Bedford|10181|\n",
      "|Washington Height...|Washington Height...|10165|\n",
      "|  Woodlawn/Wakefield|                  NA|10091|\n",
      "|          Park Slope|          Park Slope| 9771|\n",
      "|East New York/Pen...|       East New York| 9748|\n",
      "|             Astoria|            Steinway| 9465|\n",
      "|           Ridgewood|           Ridgewood| 9425|\n",
      "|       East New York|            Canarsie| 9338|\n",
      "|           Flatlands|           Flatlands| 9331|\n",
      "|       South Jamaica|             Jamaica| 9288|\n",
      "|       East New York|East New York/Pen...| 9162|\n",
      "|            Steinway|             Astoria| 8963|\n",
      "|Williamsbridge/Ol...|Williamsbridge/Ol...| 8931|\n",
      "|   East Harlem North|   East Harlem South| 8910|\n",
      "|      Bushwick South|  Stuyvesant Heights| 8822|\n",
      "|Central Harlem North|   East Harlem North| 8662|\n",
      "|  Stuyvesant Heights|             Bedford| 8654|\n",
      "|             Bedford|  Stuyvesant Heights| 8614|\n",
      "|        Saint Albans|        Saint Albans| 8602|\n",
      "+--------------------+--------------------+-----+\n",
      "only showing top 50 rows\n",
      "\n"
     ]
    }
   ],
   "source": [
    "df_join_all.groupby('pickup_location','dropoff_location').count().sort(functions.col('count').desc()).show(50)"
   ]
  },
  {
   "cell_type": "code",
   "execution_count": 8,
   "metadata": {},
   "outputs": [],
   "source": [
    "df_zones.registerTempTable(\"zones\")"
   ]
  },
  {
   "cell_type": "code",
   "execution_count": 12,
   "metadata": {},
   "outputs": [
    {
     "name": "stdout",
     "output_type": "stream",
     "text": [
      "+----------------------------------------------------+--------+\n",
      "|concat(concat(pickuplocation,  / ), dropofflocation)|count(1)|\n",
      "+----------------------------------------------------+--------+\n",
      "|                                East New York / E...|   45041|\n",
      "|                                Borough Park / Bo...|   37329|\n",
      "|                                 Canarsie / Canarsie|   28026|\n",
      "|                                Crown Heights Nor...|   25976|\n",
      "|                                Bay Ridge / Bay R...|   17934|\n",
      "|                                Jackson Heights /...|   14688|\n",
      "|                                   Astoria / Astoria|   14688|\n",
      "|                                Central Harlem No...|   14481|\n",
      "|                                Bushwick South / ...|   14424|\n",
      "|                                Flatbush/Ditmas P...|   13976|\n",
      "|                                South Ozone Park ...|   13716|\n",
      "|                                Brownsville / Bro...|   12829|\n",
      "|                                JFK Airport / Unk...|   12542|\n",
      "|                                Prospect-Lefferts...|   11814|\n",
      "|                                Forest Hills / Fo...|   11548|\n",
      "|                                Bushwick North / ...|   11491|\n",
      "|                                Bushwick South / ...|   11487|\n",
      "|                                Crown Heights Nor...|   11462|\n",
      "|                                Crown Heights Nor...|   11342|\n",
      "|                                Prospect-Lefferts...|   11308|\n",
      "+----------------------------------------------------+--------+\n",
      "only showing top 20 rows\n",
      "\n"
     ]
    }
   ],
   "source": [
    "spark.sql(\n",
    "    \"\"\"\n",
    "    with step1 as(\n",
    "    SELECT\n",
    "        f.*,\n",
    "        case when z1.Zone == 'NA' then 'Unknown' else coalesce(z1.Zone, 'Unknown') end  as pickuplocation,\n",
    "        case when z2.Zone == 'NA' then 'Unknown' else coalesce(z2.Zone, 'Unknown') end  as dropofflocation\n",
    "    FROM\n",
    "        fhv_feb f\n",
    "        left outer join \n",
    "            zones as z1\n",
    "            on f.PULocationID = z1.LocationID\n",
    "        left outer join \n",
    "            zones as z2\n",
    "            on f.DOLocationID = z2.LocationID\n",
    "    )\n",
    "    select \n",
    "        pickuplocation|| ' / ' ||dropofflocation,\n",
    "        count(*)\n",
    "    from \n",
    "        step1\n",
    "    group by \n",
    "        1\n",
    "    order by \n",
    "        2 desc\n",
    "\"\"\").show()"
   ]
  }
 ],
 "metadata": {
  "interpreter": {
   "hash": "6249d691f3c62a0b9306195dea72628f0ba9b86a95088f75cded11ea3a108383"
  },
  "kernelspec": {
   "display_name": "Python 3.10.0 64-bit",
   "language": "python",
   "name": "python3"
  },
  "language_info": {
   "codemirror_mode": {
    "name": "ipython",
    "version": 3
   },
   "file_extension": ".py",
   "mimetype": "text/x-python",
   "name": "python",
   "nbconvert_exporter": "python",
   "pygments_lexer": "ipython3",
   "version": "3.10.0"
  },
  "orig_nbformat": 4
 },
 "nbformat": 4,
 "nbformat_minor": 2
}
